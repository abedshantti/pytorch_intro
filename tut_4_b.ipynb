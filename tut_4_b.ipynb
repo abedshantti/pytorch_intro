{
 "cells": [
  {
   "cell_type": "code",
   "execution_count": 1,
   "id": "6a242ea9-e3e1-47ee-9ff5-ed95ee36f279",
   "metadata": {},
   "outputs": [],
   "source": [
    "import torch"
   ]
  },
  {
   "cell_type": "code",
   "execution_count": 2,
   "id": "7577e3a3-8786-4ec8-ae47-0e4ee39bd6c0",
   "metadata": {},
   "outputs": [],
   "source": [
    "X = torch.tensor([1, 2, 3, 4], dtype = torch.float32)\n",
    "y = torch.tensor([2, 4, 6, 8], dtype = torch.float32)\n",
    "\n",
    "w = torch.tensor(0.0, dtype = torch.float32, requires_grad = True)"
   ]
  },
  {
   "cell_type": "code",
   "execution_count": 3,
   "id": "71ef983a-4b3c-40bc-8595-0ecbeb8dc7db",
   "metadata": {},
   "outputs": [],
   "source": [
    "def forward(x):\n",
    "    return w*x"
   ]
  },
  {
   "cell_type": "code",
   "execution_count": 4,
   "id": "c4785733-f120-4791-8807-8096eedbfb8a",
   "metadata": {},
   "outputs": [],
   "source": [
    "def loss(y, y_pred):\n",
    "    return ((y_pred - y)**2).mean()"
   ]
  },
  {
   "cell_type": "code",
   "execution_count": 5,
   "id": "e2f91ac2-1543-46a6-a0e4-9765a164e37b",
   "metadata": {},
   "outputs": [
    {
     "name": "stdout",
     "output_type": "stream",
     "text": [
      "Predict before training: 0.000\n"
     ]
    }
   ],
   "source": [
    "print(\"Predict before training: {:.3f}\".format(forward(5)))\n",
    "\n",
    "lr = 0.01\n",
    "n_iters = 100"
   ]
  },
  {
   "cell_type": "code",
   "execution_count": 6,
   "id": "82ec032d-fb68-4e7e-b086-c6377a09b1ac",
   "metadata": {},
   "outputs": [
    {
     "name": "stdout",
     "output_type": "stream",
     "text": [
      "None\n"
     ]
    }
   ],
   "source": [
    "print(w.grad)"
   ]
  },
  {
   "cell_type": "code",
   "execution_count": 7,
   "id": "dc2a2759-6874-4dcd-8a49-bbf730848212",
   "metadata": {},
   "outputs": [
    {
     "name": "stdout",
     "output_type": "stream",
     "text": [
      "The weight is =  tensor(0.3000, requires_grad=True)\n",
      "Weight gradients =  tensor(-30.)\n",
      "epoch 0 : w = 0.29999998211860657, loss = 30.00000000\n",
      "The weight is =  tensor(1.6653, requires_grad=True)\n",
      "Weight gradients =  tensor(-5.9062)\n",
      "epoch 10 : w = 1.6653136014938354, loss = 1.16278565\n",
      "The weight is =  tensor(1.9341, requires_grad=True)\n",
      "Weight gradients =  tensor(-1.1628)\n",
      "epoch 20 : w = 1.934108853340149, loss = 0.04506890\n",
      "The weight is =  tensor(1.9870, requires_grad=True)\n",
      "Weight gradients =  tensor(-0.2289)\n",
      "epoch 30 : w = 1.987027645111084, loss = 0.00174685\n",
      "The weight is =  tensor(1.9974, requires_grad=True)\n",
      "Weight gradients =  tensor(-0.0451)\n",
      "epoch 40 : w = 1.9974461793899536, loss = 0.00006770\n",
      "The weight is =  tensor(1.9995, requires_grad=True)\n",
      "Weight gradients =  tensor(-0.0089)\n",
      "epoch 50 : w = 1.9994971752166748, loss = 0.00000262\n",
      "The weight is =  tensor(1.9999, requires_grad=True)\n",
      "Weight gradients =  tensor(-0.0017)\n",
      "epoch 60 : w = 1.9999010562896729, loss = 0.00000010\n",
      "The weight is =  tensor(2.0000, requires_grad=True)\n",
      "Weight gradients =  tensor(-0.0003)\n",
      "epoch 70 : w = 1.9999804496765137, loss = 0.00000000\n",
      "The weight is =  tensor(2.0000, requires_grad=True)\n",
      "Weight gradients =  tensor(-6.6340e-05)\n",
      "epoch 80 : w = 1.999996304512024, loss = 0.00000000\n",
      "The weight is =  tensor(2.0000, requires_grad=True)\n",
      "Weight gradients =  tensor(-1.2338e-05)\n",
      "epoch 90 : w = 1.9999992847442627, loss = 0.00000000\n",
      "Prediction after training: 10.000\n"
     ]
    }
   ],
   "source": [
    "for epoch in range(n_iters):\n",
    "    # prediction = forward pass\n",
    "    y_pred = forward(X)\n",
    "    \n",
    "    # loss\n",
    "    l = loss(y, y_pred)\n",
    "    \n",
    "    #gradients = backward pass\n",
    "    l.backward() # calculates gradient of loss w.r.t. w  (dl/dw)\n",
    "    \n",
    "    # update weights\n",
    "    \n",
    "    # to prevent the the inplacement assignment of weight gradients to w, \n",
    "    # since we are only interested in updating the weights and \n",
    "    # not assigning the new gradients to the weight\n",
    "    # the grad=True doesn't work for inplace assignment anyways\n",
    "    \n",
    "    with torch.no_grad(): \n",
    "        w -= lr * w.grad\n",
    "    \n",
    "    if epoch % 10 == 0:\n",
    "        print(\"The weight is = \", w)\n",
    "        print(\"Weight gradients = \", w.grad)\n",
    "    # zero gradients\n",
    "    # to ensure that we aren’t tracking any unnecessary information \n",
    "    # when we train our neural network\n",
    "    w.grad.zero_()\n",
    "    \n",
    "    if epoch % 10 == 0:\n",
    "        print(\"epoch {} : w = {}, loss = {:.8f}\".format(epoch, w, l))\n",
    "\n",
    "print(\"Prediction after training: {:.3f}\".format(forward(5)))"
   ]
  },
  {
   "cell_type": "code",
   "execution_count": null,
   "id": "88a5e66c-d999-460e-8410-00399101ccb3",
   "metadata": {},
   "outputs": [],
   "source": []
  }
 ],
 "metadata": {
  "kernelspec": {
   "display_name": "Python 3",
   "language": "python",
   "name": "python3"
  },
  "language_info": {
   "codemirror_mode": {
    "name": "ipython",
    "version": 3
   },
   "file_extension": ".py",
   "mimetype": "text/x-python",
   "name": "python",
   "nbconvert_exporter": "python",
   "pygments_lexer": "ipython3",
   "version": "3.8.5"
  }
 },
 "nbformat": 4,
 "nbformat_minor": 5
}
