{
 "cells": [
  {
   "cell_type": "code",
   "execution_count": 1,
   "id": "3f6db806-62b2-45d8-a7b7-4597a8005b9e",
   "metadata": {},
   "outputs": [],
   "source": [
    "import torch\n",
    "import torch.nn as nn\n",
    "import torch.nn.functional as F\n",
    "import torchvision\n",
    "import torchvision.transforms as transforms\n",
    "import matplotlib.pyplot as plt\n",
    "import numpy as np\n",
    "\n",
    "# device config\n",
    "device = torch.device(\"cuda\" if torch.cuda.is_available() else \"cpu\")"
   ]
  },
  {
   "cell_type": "code",
   "execution_count": 2,
   "id": "e22ce696-47f8-49d2-be21-9848e1a7eb5d",
   "metadata": {},
   "outputs": [],
   "source": [
    "# hyperparameters\n",
    "num_epochs = 4\n",
    "batch_size = 4\n",
    "lr = 0.001"
   ]
  },
  {
   "cell_type": "code",
   "execution_count": 3,
   "id": "df755db3-6de5-41c9-8ec3-595473f7425d",
   "metadata": {},
   "outputs": [],
   "source": [
    "transform = transforms.Compose([transforms.ToTensor(),\n",
    "                               transforms.Normalize((0.5, 0.5, 0.5),\n",
    "                                                   (0.5, 0.5, 0.5))])"
   ]
  },
  {
   "cell_type": "code",
   "execution_count": 4,
   "id": "da8ad232-d21e-4e54-99e8-f23e7dc049ac",
   "metadata": {},
   "outputs": [
    {
     "name": "stdout",
     "output_type": "stream",
     "text": [
      "Downloading https://www.cs.toronto.edu/~kriz/cifar-10-python.tar.gz to data/cifar-10-python.tar.gz\n"
     ]
    },
    {
     "data": {
      "application/vnd.jupyter.widget-view+json": {
       "model_id": "f6565bd08f7644109c18e3476f41a13f",
       "version_major": 2,
       "version_minor": 0
      },
      "text/plain": [
       "  0%|          | 0/170498071 [00:00<?, ?it/s]"
      ]
     },
     "metadata": {},
     "output_type": "display_data"
    },
    {
     "name": "stdout",
     "output_type": "stream",
     "text": [
      "Extracting data/cifar-10-python.tar.gz to data/\n",
      "Files already downloaded and verified\n"
     ]
    }
   ],
   "source": [
    "# dataset\n",
    "train_dataset = torchvision.datasets.CIFAR10(root = \"data/\",\n",
    "                                          train = True,\n",
    "                                          transform = transform,\n",
    "                                          download = True)\n",
    "\n",
    "test_dataset = torchvision.datasets.CIFAR10(root = \"data/\",\n",
    "                                          train = False,\n",
    "                                          transform = transform,\n",
    "                                          download = True)\n",
    "\n",
    "train_loader = torch.utils.data.DataLoader(dataset = train_dataset,\n",
    "                                          batch_size = batch_size,\n",
    "                                          shuffle = True)\n",
    "\n",
    "test_loader = torch.utils.data.DataLoader(dataset = test_dataset,\n",
    "                                          batch_size = batch_size,\n",
    "                                          shuffle = False)"
   ]
  },
  {
   "cell_type": "code",
   "execution_count": 5,
   "id": "fca0b3cd-8a46-4ecb-a114-3d0be27ae8e7",
   "metadata": {},
   "outputs": [],
   "source": [
    "classes = (\"plane\", \"car\", \"bird\", \"cat\", \"deer\",\n",
    "          \"dog\", \"frog\", \"horse\", \"ship\", \"truck\")"
   ]
  },
  {
   "cell_type": "code",
   "execution_count": 8,
   "id": "e385b9e9-2f95-4bb7-9157-4466c5246f7b",
   "metadata": {},
   "outputs": [],
   "source": [
    "class ConvNet(nn.Module):\n",
    "    def __init__(self):\n",
    "        super(ConvNet, self).__init__()\n",
    "        self.conv1 = nn.Conv2d(3, 6 ,5)\n",
    "        self.pool = nn.MaxPool2d(2, 2)\n",
    "        self.conv2 = nn.Conv2d(6, 16, 5)\n",
    "        self.fc1 = nn.Linear(16*5*5, 120)\n",
    "        self.fc2 = nn.Linear(120, 84)\n",
    "        self.fc3 = nn.Linear(84, 10)\n",
    "        \n",
    "    def forward(self, x):\n",
    "        x = self.pool(torch.relu(self.conv1(x)))\n",
    "        x = self.pool(torch.relu(self.conv2(x)))\n",
    "        x = x.view(-1, 16*5*5)\n",
    "        x = torch.relu(self.fc1(x))\n",
    "        x = torch.relu(self.fc2(x))\n",
    "        x = self.fc3(x)\n",
    "        return x"
   ]
  },
  {
   "cell_type": "code",
   "execution_count": 9,
   "id": "b263d2c2-9b06-4a10-bfc1-fc863327ed66",
   "metadata": {},
   "outputs": [],
   "source": [
    "model = ConvNet().to(device)\n",
    "\n",
    "criterion = nn.CrossEntropyLoss()\n",
    "optimizer = torch.optim.SGD(model.parameters(), lr = lr)"
   ]
  },
  {
   "cell_type": "code",
   "execution_count": 10,
   "id": "0a492231-7402-438c-ab9a-c5c70062f972",
   "metadata": {},
   "outputs": [
    {
     "name": "stdout",
     "output_type": "stream",
     "text": [
      "epoch 1/4, step 2000/12500, loss = 2.3200\n",
      "epoch 1/4, step 4000/12500, loss = 2.3060\n",
      "epoch 1/4, step 6000/12500, loss = 2.2796\n",
      "epoch 1/4, step 8000/12500, loss = 2.2903\n",
      "epoch 1/4, step 10000/12500, loss = 2.3081\n",
      "epoch 1/4, step 12000/12500, loss = 2.2959\n",
      "epoch 2/4, step 2000/12500, loss = 2.1028\n",
      "epoch 2/4, step 4000/12500, loss = 2.6593\n",
      "epoch 2/4, step 6000/12500, loss = 2.3522\n",
      "epoch 2/4, step 8000/12500, loss = 1.8835\n",
      "epoch 2/4, step 10000/12500, loss = 2.0662\n",
      "epoch 2/4, step 12000/12500, loss = 1.7459\n",
      "epoch 3/4, step 2000/12500, loss = 1.7317\n",
      "epoch 3/4, step 4000/12500, loss = 2.4506\n",
      "epoch 3/4, step 6000/12500, loss = 2.6507\n",
      "epoch 3/4, step 8000/12500, loss = 2.7514\n",
      "epoch 3/4, step 10000/12500, loss = 1.8778\n",
      "epoch 3/4, step 12000/12500, loss = 2.4160\n",
      "epoch 4/4, step 2000/12500, loss = 1.2717\n",
      "epoch 4/4, step 4000/12500, loss = 1.1909\n",
      "epoch 4/4, step 6000/12500, loss = 1.3429\n",
      "epoch 4/4, step 8000/12500, loss = 1.1353\n",
      "epoch 4/4, step 10000/12500, loss = 1.0551\n",
      "epoch 4/4, step 12000/12500, loss = 1.1549\n"
     ]
    }
   ],
   "source": [
    "# training loop\n",
    "n_total_steps = len(train_loader)\n",
    "\n",
    "for epoch in range(num_epochs):\n",
    "    for i, (images, labels) in enumerate(train_loader):\n",
    "        # reshape\n",
    "        images = images.to(device)\n",
    "        labels = labels.to(device)\n",
    "        \n",
    "        # forward\n",
    "        outputs = model(images)\n",
    "        loss = criterion(outputs, labels)\n",
    "        \n",
    "        # backwards\n",
    "        optimizer.zero_grad()\n",
    "        loss.backward()\n",
    "        optimizer.step()\n",
    "        \n",
    "        if (i+1) % 2000 == 0:\n",
    "            print(\"epoch {}/{}, step {}/{}, loss = {:.4f}\".format(epoch+1,\n",
    "                                                                 num_epochs,\n",
    "                                                                 i+1,\n",
    "                                                                 n_total_steps,\n",
    "                                                                 loss))"
   ]
  },
  {
   "cell_type": "code",
   "execution_count": 12,
   "id": "0a33e3f5-5ce2-40e9-9101-960f5b3193fc",
   "metadata": {},
   "outputs": [
    {
     "name": "stdout",
     "output_type": "stream",
     "text": [
      "Accuracy of the network = 43.94\n",
      "Accuracy of plane class = 63.0\n",
      "Accuracy of car class = 54.9\n",
      "Accuracy of bird class = 17.9\n",
      "Accuracy of cat class = 33.8\n",
      "Accuracy of deer class = 34.0\n",
      "Accuracy of dog class = 43.9\n",
      "Accuracy of frog class = 49.7\n",
      "Accuracy of horse class = 53.6\n",
      "Accuracy of ship class = 37.9\n",
      "Accuracy of truck class = 50.7\n"
     ]
    }
   ],
   "source": [
    "with torch.no_grad():\n",
    "    n_correct = 0\n",
    "    n_samples = 0\n",
    "    n_class_correct = [0 for i in range(10)]\n",
    "    n_class_samples = [0 for i in range(10)]\n",
    "    for images, labels in test_loader:\n",
    "        images = images.to(device)\n",
    "        labels = labels.to(device) \n",
    "        outputs = model(images)\n",
    "        \n",
    "        # value, index\n",
    "        _, predictions = torch.max(outputs, 1)\n",
    "        n_samples += labels.size(0)\n",
    "        n_correct += (predictions == labels).sum().item()\n",
    "        \n",
    "        for i in range(batch_size):\n",
    "            label = labels[i]\n",
    "            pred = predictions[i]\n",
    "            if (label == pred):\n",
    "                n_class_correct[label] += 1\n",
    "            n_class_samples[label] += 1\n",
    "    \n",
    "    acc = 100.0 * n_correct / n_samples\n",
    "    print(\"Accuracy of the network = {}\".format(acc))\n",
    "    \n",
    "    for i in range(10):\n",
    "        class_acc = 100.0 * n_class_correct[i] / n_class_samples[i]\n",
    "        print(\"Accuracy of {} class = {}\".format(classes[i], class_acc))"
   ]
  },
  {
   "cell_type": "code",
   "execution_count": null,
   "id": "dc8938ba-54b4-4492-a2ac-9a47bc36c626",
   "metadata": {},
   "outputs": [],
   "source": []
  }
 ],
 "metadata": {
  "kernelspec": {
   "display_name": "Python 3",
   "language": "python",
   "name": "python3"
  },
  "language_info": {
   "codemirror_mode": {
    "name": "ipython",
    "version": 3
   },
   "file_extension": ".py",
   "mimetype": "text/x-python",
   "name": "python",
   "nbconvert_exporter": "python",
   "pygments_lexer": "ipython3",
   "version": "3.8.5"
  }
 },
 "nbformat": 4,
 "nbformat_minor": 5
}
