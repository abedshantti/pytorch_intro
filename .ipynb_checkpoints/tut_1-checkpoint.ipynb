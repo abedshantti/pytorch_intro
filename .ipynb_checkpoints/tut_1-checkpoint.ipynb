{
 "cells": [
  {
   "cell_type": "code",
   "execution_count": 1,
   "id": "a3690034-d5f8-432b-ad94-163202d0217c",
   "metadata": {},
   "outputs": [],
   "source": [
    "import torch\n",
    "import numpy as np"
   ]
  },
  {
   "cell_type": "code",
   "execution_count": 8,
   "id": "560c4a5f-d29e-4c6f-a302-f3626b5bbc02",
   "metadata": {},
   "outputs": [
    {
     "name": "stdout",
     "output_type": "stream",
     "text": [
      "[1. 1. 1. 1. 1.]\n",
      "tensor([1., 1., 1., 1., 1.], dtype=torch.float64)\n"
     ]
    }
   ],
   "source": [
    "a = np.ones(5)\n",
    "print(a)\n",
    "\n",
    "b = torch.from_numpy(a)\n",
    "print(b)"
   ]
  },
  {
   "cell_type": "code",
   "execution_count": 9,
   "id": "61a16b2e-759b-4490-a57d-f101e5bd3fd1",
   "metadata": {},
   "outputs": [
    {
     "name": "stdout",
     "output_type": "stream",
     "text": [
      "[2. 2. 2. 2. 2.]\n"
     ]
    }
   ],
   "source": [
    "a+=1\n",
    "print(a)"
   ]
  },
  {
   "cell_type": "code",
   "execution_count": 10,
   "id": "39f1012a-7f73-465c-945f-5128c136726c",
   "metadata": {},
   "outputs": [
    {
     "name": "stdout",
     "output_type": "stream",
     "text": [
      "tensor([2., 2., 2., 2., 2.], dtype=torch.float64)\n"
     ]
    }
   ],
   "source": [
    "print(b)"
   ]
  },
  {
   "cell_type": "code",
   "execution_count": 30,
   "id": "cf070e41-9eaf-4889-8952-bd436a464b30",
   "metadata": {},
   "outputs": [],
   "source": [
    "cpu = \"cpu\"\n",
    "if torch.cuda.is_available():\n",
    "    gpu = torch.device(\"cuda\")\n",
    "    x = torch.ones(5, device = gpu)\n",
    "    y = torch.ones(5)\n",
    "    y = y.to(gpu)\n",
    "    z = x + y\n",
    "    z = z.to(cpu)"
   ]
  },
  {
   "cell_type": "code",
   "execution_count": 35,
   "id": "fd982882-72c6-4048-bbfe-b81bf9ed176a",
   "metadata": {},
   "outputs": [],
   "source": [
    "z = z.to(gpu)"
   ]
  },
  {
   "cell_type": "code",
   "execution_count": 36,
   "id": "3209516a-ebf0-409d-a911-9c4a6309d9b1",
   "metadata": {},
   "outputs": [
    {
     "data": {
      "text/plain": [
       "tensor([2., 2., 2., 2., 2.], device='cuda:0')"
      ]
     },
     "execution_count": 36,
     "metadata": {},
     "output_type": "execute_result"
    }
   ],
   "source": [
    "z"
   ]
  },
  {
   "cell_type": "code",
   "execution_count": null,
   "id": "f5bbb7a4-210f-4ec2-ab37-a2ba99a5d9ca",
   "metadata": {},
   "outputs": [],
   "source": [
    "q = "
   ]
  }
 ],
 "metadata": {
  "kernelspec": {
   "display_name": "Python 3",
   "language": "python",
   "name": "python3"
  },
  "language_info": {
   "codemirror_mode": {
    "name": "ipython",
    "version": 3
   },
   "file_extension": ".py",
   "mimetype": "text/x-python",
   "name": "python",
   "nbconvert_exporter": "python",
   "pygments_lexer": "ipython3",
   "version": "3.8.5"
  }
 },
 "nbformat": 4,
 "nbformat_minor": 5
}
