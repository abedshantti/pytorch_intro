{
 "cells": [
  {
   "cell_type": "code",
   "execution_count": null,
   "id": "7c37875a-3e06-49e0-abb9-f7469e635bbb",
   "metadata": {},
   "outputs": [],
   "source": [
    "# Pytorch training pipeline:\n",
    "\n",
    "# 1) Design model (input, output size, forward pass)\n",
    "# 2) Construct loss and optimiser\n",
    "# 3) Training loop: \n",
    "#                  -forward pass: compute prediction\n",
    "#                  -backward pass: gradients\n",
    "#                  -update weights"
   ]
  },
  {
   "cell_type": "code",
   "execution_count": 1,
   "id": "31da47d0-bdb4-41ca-b766-9cfa78c97dd6",
   "metadata": {},
   "outputs": [],
   "source": [
    "import torch\n",
    "import torch.nn as nn"
   ]
  },
  {
   "cell_type": "code",
   "execution_count": 2,
   "id": "90f4aa74-b076-4cde-b075-e6ec4a75cf20",
   "metadata": {},
   "outputs": [],
   "source": [
    "X = torch.tensor([[1], [2], [3], [4]], dtype = torch.float32)\n",
    "y = torch.tensor([[2], [4], [6], [8]], dtype = torch.float32)\n",
    "\n",
    "n_samples, n_features = X.shape"
   ]
  },
  {
   "cell_type": "code",
   "execution_count": 3,
   "id": "e3c85703-ac94-40b3-a36f-8ad6f13ba2b3",
   "metadata": {},
   "outputs": [],
   "source": [
    "input_size = n_features\n",
    "output_size = n_features"
   ]
  },
  {
   "cell_type": "code",
   "execution_count": 4,
   "id": "f5c75775-91f6-4680-a255-e76ae4b13598",
   "metadata": {},
   "outputs": [],
   "source": [
    "class LinearRegression(nn.Module):\n",
    "    \n",
    "    def __init__(self, input_dim, output_dim):\n",
    "        super(LinearRegression, self).__init__()\n",
    "        # define layers\n",
    "        self.lin = nn.Linear(input_dim, output_dim)\n",
    "        \n",
    "    def forward(self, x):\n",
    "        return self.lin(x)"
   ]
  },
  {
   "cell_type": "code",
   "execution_count": 5,
   "id": "1345dbf4-36a2-4e76-84e7-4dc6afcee375",
   "metadata": {},
   "outputs": [],
   "source": [
    "# model = nn.Linear(input_size, output_size)\n",
    "model = LinearRegression(input_size, output_size)"
   ]
  },
  {
   "cell_type": "code",
   "execution_count": 6,
   "id": "0b9c4875-9c06-4738-8e2a-d1422206f868",
   "metadata": {},
   "outputs": [
    {
     "name": "stdout",
     "output_type": "stream",
     "text": [
      "Predict before training: -3.450\n"
     ]
    }
   ],
   "source": [
    "X_test = torch.tensor([5], dtype=torch.float32)\n",
    "print(\"Predict before training: {:.3f}\".format(model(X_test).item()))\n",
    "\n",
    "lr = 0.01\n",
    "n_iters = 100"
   ]
  },
  {
   "cell_type": "code",
   "execution_count": 7,
   "id": "2443a84f-d5d1-4e49-bd24-590ebee9e048",
   "metadata": {},
   "outputs": [],
   "source": [
    "loss = nn.MSELoss()\n",
    "optimizer = torch.optim.SGD(model.parameters(), lr=lr)"
   ]
  },
  {
   "cell_type": "code",
   "execution_count": 8,
   "id": "1c53bf15-0f80-431c-bc3e-f8a4dbfb9b20",
   "metadata": {},
   "outputs": [
    {
     "name": "stdout",
     "output_type": "stream",
     "text": [
      "epoch 0 : w = -0.06678116321563721, loss = 59.94078064\n",
      "epoch 10 : w = 1.704864740371704, loss = 1.55363524\n",
      "epoch 20 : w = 1.9887301921844482, loss = 0.04285609\n",
      "epoch 30 : w = 2.033320188522339, loss = 0.00361389\n",
      "epoch 40 : w = 2.039454698562622, loss = 0.00245274\n",
      "epoch 50 : w = 2.0394344329833984, loss = 0.00228540\n",
      "epoch 60 : w = 2.0384538173675537, loss = 0.00215173\n",
      "epoch 70 : w = 2.0373473167419434, loss = 0.00202648\n",
      "epoch 80 : w = 2.0362491607666016, loss = 0.00190853\n",
      "epoch 90 : w = 2.0351788997650146, loss = 0.00179744\n",
      "Prediction after training: 10.071\n"
     ]
    }
   ],
   "source": [
    "for epoch in range(n_iters):\n",
    "    # prediction = forward pass\n",
    "    \n",
    "    y_pred = model(X)\n",
    "    \n",
    "    # loss\n",
    "    l = loss(y, y_pred)\n",
    "    \n",
    "    #gradients = backward pass\n",
    "    l.backward() # calculates gradient of loss w.r.t. w  (dl/dw)\n",
    "    \n",
    "    optimizer.step()\n",
    "    \n",
    "    optimizer.zero_grad()\n",
    "    \n",
    "    if epoch % 10 == 0:\n",
    "        [w, b] = model.parameters()\n",
    "        print(\"epoch {} : w = {}, loss = {:.8f}\".format(epoch, w[0][0].item(), l))\n",
    "\n",
    "print(\"Prediction after training: {:.3f}\".format(model(X_test).item()))"
   ]
  },
  {
   "cell_type": "code",
   "execution_count": null,
   "id": "89196a6f-3012-449d-b1f3-7448dc1ea30f",
   "metadata": {},
   "outputs": [],
   "source": []
  }
 ],
 "metadata": {
  "kernelspec": {
   "display_name": "Python 3",
   "language": "python",
   "name": "python3"
  },
  "language_info": {
   "codemirror_mode": {
    "name": "ipython",
    "version": 3
   },
   "file_extension": ".py",
   "mimetype": "text/x-python",
   "name": "python",
   "nbconvert_exporter": "python",
   "pygments_lexer": "ipython3",
   "version": "3.8.5"
  }
 },
 "nbformat": 4,
 "nbformat_minor": 5
}
