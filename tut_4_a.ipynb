{
 "cells": [
  {
   "cell_type": "code",
   "execution_count": 1,
   "id": "0247daa0-555d-45dd-a85d-15771ca3ba6e",
   "metadata": {},
   "outputs": [],
   "source": [
    "import torch\n",
    "import numpy as np"
   ]
  },
  {
   "cell_type": "code",
   "execution_count": 2,
   "id": "913b08b5-3c9f-4085-b56d-20672d745071",
   "metadata": {},
   "outputs": [],
   "source": [
    "X = np.array([1, 2, 3, 4], dtype = np.float32)\n",
    "y = np.array([2, 4, 6, 8], dtype = np.float32)\n",
    "\n",
    "w = 0.0"
   ]
  },
  {
   "cell_type": "code",
   "execution_count": 3,
   "id": "eefe8a85-31df-4fc5-80f6-9c0afaa8789f",
   "metadata": {},
   "outputs": [],
   "source": [
    "def forward(x):\n",
    "    return w*x"
   ]
  },
  {
   "cell_type": "code",
   "execution_count": 4,
   "id": "0716880d-3433-4582-88a4-3edf1a70568f",
   "metadata": {},
   "outputs": [],
   "source": [
    "def loss(y, y_pred):\n",
    "    return ((y_pred - y)**2).mean()"
   ]
  },
  {
   "cell_type": "code",
   "execution_count": 5,
   "id": "1e071bfe-4324-4f18-bc68-626d994901de",
   "metadata": {},
   "outputs": [],
   "source": [
    "# gradient\n",
    "# MSE = 1/N * (w*x - y)**2\n",
    "# dJ/dw = 1/N 2x (w*x - y)\n",
    "def gradient(x,y,y_pred):\n",
    "    return np.dot(2*x, y_pred - y).mean()"
   ]
  },
  {
   "cell_type": "code",
   "execution_count": 10,
   "id": "e27819a9-24ca-496e-807d-b0249c05debb",
   "metadata": {},
   "outputs": [
    {
     "name": "stdout",
     "output_type": "stream",
     "text": [
      "Predict before training: 0.000\n"
     ]
    }
   ],
   "source": [
    "print(\"Predict before training: {:.3f}\".format(forward(5)))\n",
    "\n",
    "lr = 0.01\n",
    "n_iters = 10"
   ]
  },
  {
   "cell_type": "code",
   "execution_count": 12,
   "id": "02000e6e-5c39-4dfd-b74e-464419b54ac3",
   "metadata": {},
   "outputs": [
    {
     "name": "stdout",
     "output_type": "stream",
     "text": [
      "epoch 0 : w = 1.2, loss = 30.00000000\n",
      "epoch 1 : w = 1.68, loss = 4.79999924\n",
      "epoch 2 : w = 1.8720000267028807, loss = 0.76800019\n",
      "epoch 3 : w = 1.948800024986267, loss = 0.12288000\n",
      "epoch 4 : w = 1.9795200514793394, loss = 0.01966083\n",
      "epoch 5 : w = 1.9918079876899717, loss = 0.00314570\n",
      "epoch 6 : w = 1.9967232251167295, loss = 0.00050332\n",
      "epoch 7 : w = 1.9986893200874327, loss = 0.00008053\n",
      "epoch 8 : w = 1.9994757366180418, loss = 0.00001288\n",
      "epoch 9 : w = 1.9997902917861936, loss = 0.00000206\n",
      "Prediction after training: 9.999\n"
     ]
    }
   ],
   "source": [
    "for epoch in range(n_iters):\n",
    "    # prediction = forward pass\n",
    "    y_pred = forward(X)\n",
    "    \n",
    "    # loss\n",
    "    l = loss(y, y_pred)\n",
    "    \n",
    "    #gradients\n",
    "    dw = gradient(X, y, y_pred)\n",
    "    \n",
    "    # update weights\n",
    "    w -= lr * dw\n",
    "    \n",
    "    if epoch % 1 == 0:\n",
    "        print(\"epoch {} : w = {}, loss = {:.8f}\".format(epoch, w, l))\n",
    "\n",
    "print(\"Prediction after training: {:.3f}\".format(forward(5)))"
   ]
  },
  {
   "cell_type": "code",
   "execution_count": null,
   "id": "e74d8fae-63f1-4f36-b86c-cd50534e2964",
   "metadata": {},
   "outputs": [],
   "source": []
  }
 ],
 "metadata": {
  "kernelspec": {
   "display_name": "Python 3",
   "language": "python",
   "name": "python3"
  },
  "language_info": {
   "codemirror_mode": {
    "name": "ipython",
    "version": 3
   },
   "file_extension": ".py",
   "mimetype": "text/x-python",
   "name": "python",
   "nbconvert_exporter": "python",
   "pygments_lexer": "ipython3",
   "version": "3.8.5"
  }
 },
 "nbformat": 4,
 "nbformat_minor": 5
}
